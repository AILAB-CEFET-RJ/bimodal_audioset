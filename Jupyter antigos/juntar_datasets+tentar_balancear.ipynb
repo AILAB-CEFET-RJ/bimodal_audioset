{
 "cells": [
  {
   "cell_type": "markdown",
   "metadata": {},
   "source": [
    "## Vamos juntar o eval com o balanced\n",
    "já que o unbalanced é disjunto, posso usar meu balanced pra isso."
   ]
  },
  {
   "cell_type": "code",
   "execution_count": null,
   "metadata": {},
   "outputs": [],
   "source": [
    "## pegando balanced_eval_y\n",
    "save_dir = data_dir+\"balanced_train/audio\"+\"/features/\"\n",
    "balanced_train_labels_file = os.path.join(save_dir+'_y.npy')\n",
    "balanced_eval_y = np.load(balanced_train_labels_file)\n",
    "\n",
    "\n",
    "## buscando os train_x\n",
    "save_dir = data_dir+\"balanced_train/audio\"+\"/features/\"\n",
    "balanced_train_labels_file = os.path.join(save_dir+'_x.npy')\n",
    "audio_balanced_eval_x = np.load(balanced_train_labels_file)\n",
    "\n",
    "## buscando os train_x\n",
    "save_dir = data_dir+\"balanced_train/video\"+\"/features/\"\n",
    "balanced_train_labels_file = os.path.join(save_dir+'_x.npy')\n",
    "video_balanced_eval_x = np.load(balanced_train_labels_file)\n"
   ]
  },
  {
   "cell_type": "code",
   "execution_count": null,
   "metadata": {},
   "outputs": [],
   "source": [
    "# pre process\n",
    "audio_balanced_eval_x = np.expand_dims(audio_balanced_eval_x, axis=-1)\n",
    "\n",
    "novo_eval_y = np.vstack((eval_y,balanced_eval_y))\n",
    "novo_audio_eval_x = np.vstack((audio_eval_x,audio_balanced_eval_x))\n",
    "\n",
    "\n",
    "## Mapeando valores de pixels para o espaço entre 0 e 1\n",
    "video_balanced_eval_x = video_balanced_eval_x.astype('float32')\n",
    "video_balanced_eval_x /= 255\n",
    "\n",
    "novo_video_eval_x = np.vstack((video_eval_x,video_balanced_eval_x))\n"
   ]
  },
  {
   "cell_type": "code",
   "execution_count": null,
   "metadata": {},
   "outputs": [],
   "source": [
    "print novo_eval_y.shape , novo_audio_eval_x.shape , novo_video_eval_x.shape"
   ]
  },
  {
   "cell_type": "code",
   "execution_count": null,
   "metadata": {},
   "outputs": [],
   "source": [
    "total_examples,label_count,total_labels = count_labels(novo_eval_y)\n",
    "print('Exemplos totais',total_examples,'total_labels',total_labels)\n",
    "print(\"Quantidade de labels para cada classe:: \\n {} \\n {}\".format(labels,label_count))\n",
    "print(\"Porcentagem de cada label \\n {}\".format(label_percentage(total_labels,label_count)))"
   ]
  },
  {
   "cell_type": "code",
   "execution_count": null,
   "metadata": {},
   "outputs": [],
   "source": [
    "# Números tirados dessa planilha \\/\n",
    "#https://docs.google.com/spreadsheets/d/1llGz2bZX6lH4DPICbmIDRb8j4vWU0R2Yn-g6iy-aefI/edit#gid=0\n",
    "\n",
    "\n",
    "## VAMOS MATAR OS LABELS DE VENTO QUE NÃO TEM OUTROS EXEMPLOS.\n",
    "tot =0\n",
    "kill_list = np.zeros(78)\n",
    "for k in  np.random.permutation(novo_eval_y.shape[0]):\n",
    "    if novo_eval_y[k][0] == 1 and novo_eval_y[k][1::].any() == 0 :\n",
    "        #print k,v\n",
    "        kill_list[tot] = k\n",
    "        tot+=1\n",
    "        if tot == 78:\n",
    "            break\n",
    "print \"Total:\",tot\n",
    "\n",
    "novo_eval_y = np.delete(novo_eval_y,kill_list.tolist(), axis=0)\n",
    "novo_audio_eval_x = np.delete(novo_audio_eval_x,kill_list.tolist(), axis=0)\n",
    "novo_video_eval_x = np.delete(novo_video_eval_x,kill_list.tolist(), axis=0)\n",
    "\n",
    "## agora vamos matar os exemplos de GUNSHOT\n",
    "tot =0\n",
    "kill_list = np.zeros(102)\n",
    "for k in  np.random.permutation(novo_eval_y.shape[0]):\n",
    "    if novo_eval_y[k][6] == 1 and novo_eval_y[k][::5].any() == 0 :\n",
    "        #print k,v\n",
    "        kill_list[tot] = k\n",
    "        tot+=1\n",
    "        if tot == 102:\n",
    "            break\n",
    "print \"Total:\",tot\n",
    "novo_eval_y = np.delete(novo_eval_y,kill_list.tolist(), axis=0)\n",
    "novo_audio_eval_x = np.delete(novo_audio_eval_x,kill_list.tolist(), axis=0)\n",
    "novo_video_eval_x = np.delete(novo_video_eval_x,kill_list.tolist(), axis=0)\n",
    "\n",
    "\n",
    "## agora vamos matar os exemplos de THUNDER E RAIN\n",
    "tot =0\n",
    "kill_list = np.zeros(37)\n",
    "for k in  np.random.permutation(novo_eval_y.shape[0]):\n",
    "    if novo_eval_y[k][1] == 1  and novo_eval_y[k][2] == 1 and novo_eval_y[k][:1].any() == 0 and novo_eval_y[k][3::].any() == 0 :\n",
    "        #print k,v\n",
    "        kill_list[tot] = k\n",
    "        tot+=1\n",
    "        if tot == 37:\n",
    "            break\n",
    "print \"Total:\",tot\n",
    "novo_eval_y = np.delete(novo_eval_y,kill_list.tolist(), axis=0)\n",
    "novo_audio_eval_x = np.delete(novo_audio_eval_x,kill_list.tolist(), axis=0)\n",
    "novo_video_eval_x = np.delete(novo_video_eval_x,kill_list.tolist(), axis=0)\n",
    "\n",
    "\n",
    "\n",
    "\n",
    "## agora vamos matar os exemplos de OCEAN\n",
    "tot =0\n",
    "kill_list = np.zeros(13)\n",
    "for k in  np.random.permutation(novo_eval_y.shape[0]):\n",
    "    if novo_eval_y[k][3] == 1 and novo_eval_y[k][:3].any() == 0 and novo_eval_y[k][4::].any() == 0 :\n",
    "        #print k,v\n",
    "        kill_list[tot] = k\n",
    "        tot+=1\n",
    "        if tot == 13:\n",
    "            break\n",
    "print \"Total:\",tot\n",
    "novo_eval_y = np.delete(novo_eval_y,kill_list.tolist(), axis=0)\n",
    "novo_audio_eval_x = np.delete(novo_audio_eval_x,kill_list.tolist(), axis=0)\n",
    "novo_video_eval_x = np.delete(novo_video_eval_x,kill_list.tolist(), axis=0)\n",
    "\n",
    "\n",
    "## agora vamos matar os exemplos de FIRE\n",
    "tot =0\n",
    "kill_list = np.zeros(5)\n",
    "for k in  np.random.permutation(novo_eval_y.shape[0]):\n",
    "    if novo_eval_y[k][4] == 1 and novo_eval_y[k][:4].any() == 0 and novo_eval_y[k][5::].any() == 0 :\n",
    "        #print k,v\n",
    "        kill_list[tot] = k\n",
    "        tot+=1\n",
    "        if tot == 5:\n",
    "            break\n",
    "print \"Total:\",tot\n",
    "\n",
    "novo_eval_y = np.delete(novo_eval_y,kill_list.tolist(), axis=0)\n",
    "novo_audio_eval_x = np.delete(novo_audio_eval_x,kill_list.tolist(), axis=0)\n",
    "novo_video_eval_x = np.delete(novo_video_eval_x,kill_list.tolist(), axis=0)"
   ]
  },
  {
   "cell_type": "code",
   "execution_count": null,
   "metadata": {},
   "outputs": [],
   "source": [
    "print novo_eval_y.shape , novo_audio_eval_x.shape , novo_video_eval_x.shape"
   ]
  },
  {
   "cell_type": "code",
   "execution_count": null,
   "metadata": {},
   "outputs": [],
   "source": [
    "total_examples,label_count,total_labels = count_labels(novo_eval_y)\n",
    "print('Exemplos totais',total_examples,'total_labels',total_labels)\n",
    "print(\"Quantidade de labels para cada label: \\n {} \\n {}\".format(labels,label_count))\n",
    "print(\"Porcentagem de cada label: \\n {}\".format(label_percentage(total_labels,label_count)))"
   ]
  },
  {
   "cell_type": "code",
   "execution_count": null,
   "metadata": {},
   "outputs": [],
   "source": []
  }
 ],
 "metadata": {
  "kernelspec": {
   "display_name": "Python 2",
   "language": "python",
   "name": "python2"
  },
  "language_info": {
   "codemirror_mode": {
    "name": "ipython",
    "version": 2
   },
   "file_extension": ".py",
   "mimetype": "text/x-python",
   "name": "python",
   "nbconvert_exporter": "python",
   "pygments_lexer": "ipython2",
   "version": "2.7.12"
  }
 },
 "nbformat": 4,
 "nbformat_minor": 2
}
